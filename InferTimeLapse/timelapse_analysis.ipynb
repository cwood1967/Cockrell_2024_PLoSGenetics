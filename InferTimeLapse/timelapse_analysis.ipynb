{
 "cells": [
  {
   "cell_type": "code",
   "execution_count": 1,
   "id": "d5a491c0",
   "metadata": {
    "tags": []
   },
   "outputs": [],
   "source": [
    "\n",
    "%load_ext autoreload\n",
    "%autoreload 2\n",
    "\n",
    "import os\n",
    "import pandas as pd\n",
    "import numpy as np\n",
    "\n",
    "import tifffile\n",
    "from matplotlib import pyplot as plt\n",
    "\n",
    "\n",
    "import plotly.express as px\n",
    "\n",
    "from scipy.spatial.distance import cdist, pdist\n",
    "\n",
    "# from pombelength import cell_length\n",
    "from timelapse import tracking\n",
    "from timelapse.tracking import trackcells, length_dataframe\n",
    "from timelapse.imageutils import label_mask, make_movie\n",
    "%matplotlib notebook"
   ]
  },
  {
   "cell_type": "markdown",
   "id": "a1286e49",
   "metadata": {},
   "source": [
    "### Load image data\n",
    "\n",
    "Right now this is assuming a projected tiff file. This is easy to change.\n",
    "\n",
    "* data - the image data in a numpy array\n",
    "* predicted - the mask prediction from deep learning in a numpy array"
   ]
  },
  {
   "cell_type": "code",
   "execution_count": 2,
   "id": "concrete-singapore",
   "metadata": {
    "tags": []
   },
   "outputs": [
    {
     "data": {
      "text/plain": [
       "'Results/max_project_movie'"
      ]
     },
     "execution_count": 2,
     "metadata": {},
     "output_type": "execute_result"
    }
   ],
   "source": [
    "# imagefile = 'Data/3-17-20_WT-Agar-ON_bestz_3channel.tif'\n",
    "imagepath = \"path/to/movie\"\n",
    "imagefile = imagepath + \"/max_project_movie.tif\"\n",
    "data = tifffile.imread(imagefile)\n",
    "predicted = tifffile.imread('/path/to/inferred.tif')\n",
    "results_folder = tracking.make_results_dir(imagefile)\n",
    "results_folder"
   ]
  },
  {
   "cell_type": "markdown",
   "id": "7124a1fb",
   "metadata": {},
   "source": [
    "### Load data from processing fluoresence and transmitted light"
   ]
  },
  {
   "cell_type": "code",
   "execution_count": null,
   "id": "lyric-pricing",
   "metadata": {
    "tags": []
   },
   "outputs": [],
   "source": [
    "df = pd.read_pickle('/path/to/dataframe/pickle/.pkl')\n",
    "df = df.reset_index()\n",
    "df['minutes'] = 10*df['frame']\n",
    "df.columns"
   ]
  },
  {
   "cell_type": "markdown",
   "id": "fe58c054",
   "metadata": {},
   "source": [
    "### Create a labeled image of the predicted masks\n"
   ]
  },
  {
   "cell_type": "code",
   "execution_count": 25,
   "id": "romantic-oregon",
   "metadata": {
    "tags": []
   },
   "outputs": [],
   "source": [
    "labeled = predicted"
   ]
  },
  {
   "cell_type": "code",
   "execution_count": 26,
   "id": "88680755",
   "metadata": {
    "tags": []
   },
   "outputs": [],
   "source": [
    "length_df = tracking.get_cell_lengths(results_folder, labeled)"
   ]
  },
  {
   "cell_type": "code",
   "execution_count": 27,
   "id": "confidential-alert",
   "metadata": {
    "tags": []
   },
   "outputs": [],
   "source": [
    "xdf = trackcells(length_df, frame_col='frame',\n",
    "                    xm='cmx', ym='cmy', max_separation=10, max_lost=2)"
   ]
  },
  {
   "cell_type": "code",
   "execution_count": null,
   "id": "036c87d9",
   "metadata": {},
   "outputs": [],
   "source": []
  },
  {
   "cell_type": "code",
   "execution_count": 28,
   "id": "935bf8ad",
   "metadata": {
    "tags": []
   },
   "outputs": [],
   "source": [
    "'''\n",
    "this creates a dictionary with the key being the cellid and the values the\n",
    "row index for the fluorescence dataframe and length dataframe\n",
    "\n",
    "key : int\n",
    "    the cellid\n",
    "    \n",
    "value : dict\n",
    "    key : 'f' or 'length'\n",
    "    value : int\n",
    "        row index of \n",
    "'''\n",
    "\n",
    "cell_dict = tracking.cellid_row_table(df, xdf, labeled)"
   ]
  },
  {
   "cell_type": "code",
   "execution_count": 106,
   "id": "forward-nightlife",
   "metadata": {},
   "outputs": [
    {
     "data": {
      "text/plain": [
       "(187, 1378, 1170)"
      ]
     },
     "execution_count": 106,
     "metadata": {},
     "output_type": "execute_result"
    }
   ],
   "source": [
    "'''\n",
    "Enter the x, y coordinates of a nucleus to follow the cell through\n",
    "multiple divisions\n",
    "'''\n",
    "x = 1378\n",
    "y = 1170\n",
    "\n",
    "cellx = int(x)\n",
    "celly =  int(y)\n",
    "\n",
    "frame = 1\n",
    "\n",
    "\n",
    "cellid, trace_df = tracking.track_cell(df, xdf, cell_dict, labeled, cellx, celly, frame)\n",
    "cellid, cellx, celly"
   ]
  },
  {
   "cell_type": "code",
   "execution_count": null,
   "id": "e55a9506",
   "metadata": {},
   "outputs": [],
   "source": [
    "%matplotlib inline\n",
    "\n",
    "trace_df = trace_df[trace_df['frame'] < 33]\n",
    "tracking.plot_cell_trace(trace_df, \"rdna_vol_ratio\")\n",
    "#plt.ylim((0, 3000))"
   ]
  },
  {
   "cell_type": "code",
   "execution_count": null,
   "id": "e77d83ca",
   "metadata": {},
   "outputs": [],
   "source": [
    "snaps = tracking.plot_timelapse(trace_df, data, cellx, celly, \"length\", results_folder)"
   ]
  },
  {
   "cell_type": "code",
   "execution_count": 11,
   "id": "1c6635b8",
   "metadata": {},
   "outputs": [],
   "source": [
    "import plotly.express as px\n",
    "import plotly.graph_objects as go\n",
    "import dash"
   ]
  },
  {
   "cell_type": "code",
   "execution_count": 12,
   "id": "19407184",
   "metadata": {},
   "outputs": [],
   "source": [
    "import base64\n",
    "import io\n",
    "#import cv2\n",
    "from PIL import Image\n",
    "\n",
    "def image_to_jpeg(frame, to_bgr=True) -> bytes:\n",
    "    frame = frame if not to_bgr else cv2.cvtColor(frame, cv2.COLOR_RGB2BGR)\n",
    "    _, jpeg = cv2.imencode(\".png\", frame)\n",
    "    return jpeg.tobytes()\n",
    "\n",
    "def image_to_jpeg_b64(frame, to_bgr=True) -> bytes:\n",
    "    img = Image.fromarray(frame)\n",
    "    buffer = io.BytesIO()\n",
    "    img.save(buffer, format='PNG')\n",
    "    buffer.seek(0)\n",
    "    \n",
    "    #return base64.b64encode(image_to_jpeg(frame, to_bgr=to_bgr)).decode(\"utf-8\")\n",
    "    return base64.b64encode(buffer.getvalue()).decode(\"utf-8\")"
   ]
  },
  {
   "cell_type": "code",
   "execution_count": 13,
   "id": "a7a11114",
   "metadata": {},
   "outputs": [],
   "source": [
    "x = tracking.to_rgb(data[0, ...])\n",
    "_x = 255*x\n",
    "_x = _x.astype(np.uint8)"
   ]
  },
  {
   "cell_type": "code",
   "execution_count": null,
   "id": "7dc1458f",
   "metadata": {},
   "outputs": [],
   "source": [
    "\n",
    "\n",
    "go_image = go.Image(source=f\"data:image/png;base64,{image_to_jpeg_b64(_x)}\")\n",
    "fig = go.FigureWidget([go_image])\n",
    "fig.update_layout(width=800, height=800)\n",
    "\n",
    "pdict = {}\n",
    "plist = []\n",
    "\n",
    "def clicker(trace, points, state):\n",
    "    pdict[0] = points\n",
    "    plist.append(points)\n",
    "    plist.append(trace)\n",
    "    print(points)\n",
    "    \n",
    "go_image.on_click(clicker)\n",
    "fig.show()"
   ]
  }
 ],
 "metadata": {
  "kernelspec": {
   "display_name": "py310",
   "language": "python",
   "name": "py310"
  },
  "language_info": {
   "codemirror_mode": {
    "name": "ipython",
    "version": 3
   },
   "file_extension": ".py",
   "mimetype": "text/x-python",
   "name": "python",
   "nbconvert_exporter": "python",
   "pygments_lexer": "ipython3",
   "version": "3.10.10"
  }
 },
 "nbformat": 4,
 "nbformat_minor": 5
}

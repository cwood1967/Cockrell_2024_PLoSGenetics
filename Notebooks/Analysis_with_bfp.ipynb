{
 "cells": [
  {
   "cell_type": "code",
   "execution_count": 1,
   "metadata": {},
   "outputs": [],
   "source": [
    "import os\n",
    "import glob\n",
    "import re\n",
    "import pickle\n",
    "\n",
    "import numpy as np\n",
    "import tifffile\n",
    "import scipy.ndimage as ndi\n",
    "from matplotlib import pyplot as plt\n",
    "from skimage import measure\n",
    "from skimage.segmentation import clear_border\n",
    "import pandas as pd\n",
    "import seaborn as sns\n",
    "from nd2reader import ND2Reader\n",
    "import plotly.express as px"
   ]
  },
  {
   "cell_type": "markdown",
   "metadata": {},
   "source": [
    "Pixel size in x and y is .129 micrometers for 60x"
   ]
  },
  {
   "cell_type": "code",
   "execution_count": 2,
   "metadata": {},
   "outputs": [],
   "source": [
    "# has the wrong name\n",
    "pickles = sorted(glob.glob(\"*.pkl\"))\n",
    "\n",
    "dflist = list()\n",
    "for pk in pickles:\n",
    "    _df = pd.read_pickle(pk)\n",
    "    _df['pk_file'] = os.path.basename(pk) \n",
    "    dflist.append(_df)\n",
    "alldf = pd.concat(dflist).reset_index()"
   ]
  },
  {
   "cell_type": "code",
   "execution_count": 3,
   "metadata": {},
   "outputs": [
    {
     "data": {
      "text/plain": [
       "580"
      ]
     },
     "execution_count": 3,
     "metadata": {},
     "output_type": "execute_result"
    }
   ],
   "source": [
    "len(alldf)"
   ]
  },
  {
   "cell_type": "code",
   "execution_count": 4,
   "metadata": {},
   "outputs": [],
   "source": [
    "df = alldf.copy()"
   ]
  },
  {
   "cell_type": "code",
   "execution_count": null,
   "metadata": {},
   "outputs": [],
   "source": [
    "'''\n",
    "Mutant names are based on the name of folders in the path and the filename.\n",
    "The same for replicate names\n",
    "'''\n",
    "\n",
    "def mutant_map(x):\n",
    "    bn = os.path.basename(x)\n",
    "    for m in mutants:\n",
    "        if m in bn:\n",
    "            mutant = m\n",
    "            break\n",
    "        \n",
    "    return m\n",
    "\n",
    "def rep_map(x):\n",
    "    bn = os.path.basename(x)\n",
    "    if 'glucose-2' in bn:\n",
    "        rep = 'Rep2'\n",
    "    else:\n",
    "        rep = 'Rep1'\n",
    "    \n",
    "    return rep\n",
    "\n",
    "def file_map(x):\n",
    "    s = x.split(\"/\")\n",
    "    return s[-1]\n",
    "\n",
    "def path_map(x):\n",
    "    s = os.path.split(x)[0]\n",
    "    return s.split(\"/\")[-1]\n",
    "\n",
    "df['mutant'] = df['file'].map(mutant_map)\n",
    "df['m2'] = df['mutant'].copy()\n",
    "df['rep'] = df['file'].map(rep_map)\n",
    "df['path'] = df['file'].map(path_map)\n",
    "#df['file'] = df['file'].map(file_map)\n",
    "df['filename'] = df['file'].str.split(\"/\").str[-1]\n",
    "df.sample(10)[['file', 'mutant', 'rep', 'path', 'filename']]"
   ]
  },
  {
   "cell_type": "code",
   "execution_count": 9,
   "metadata": {},
   "outputs": [],
   "source": [
    "mask_dir = \"Data/Masks/\"\n",
    "s = mask_dir + df['path'] + \"/\"\n",
    "s += df['filename'].str[:-4] + \"_000_inferred.tif\"\n",
    "df['infermask'] = s\n",
    "\n",
    "for tmp in s:\n",
    "    if not os.path.exists(tmp):\n",
    "        print(tmp)"
   ]
  },
  {
   "cell_type": "code",
   "execution_count": 10,
   "metadata": {},
   "outputs": [],
   "source": [
    "df['rdna_green_ratio'] = (df.rdna_mean/df.green_mean)\n",
    "df['rdna_vol_ratio'] = df.rdna_vol/df.vol\n",
    "df['red_vol_ratio'] = df.red_voxels/df.vol\n",
    "df['blue_green_ratio'] = df['blue_mean']/df['green_mean']\n",
    "df['blue_green_vol_ratio'] = df['blue_vol']/df['vol']\n",
    "df['blue_red_ratio'] = df['blue_mean']/df['green_mean']"
   ]
  },
  {
   "cell_type": "code",
   "execution_count": 12,
   "metadata": {},
   "outputs": [],
   "source": [
    "def get_xy_label(x):\n",
    "    _image = tifffile.imread(x['infermask'].values[0])\n",
    "    image = clear_border(_image, buffer_size=1)\n",
    "    mask_name = x['infermask'].values[0]\n",
    "    mask_name = mask_name.replace(\".tif\", \"_no_border.tif\")\n",
    "    tifffile.imwrite(mask_name, image)\n",
    "    df_list = list()\n",
    "    index_list = list()\n",
    "    label_list = list()\n",
    "    for row in x.itertuples():\n",
    "        index_list.append(row.Index),\n",
    "        label_list.append(image[row.ycm, row.xcm])\n",
    "    \n",
    "    return pd.DataFrame({'label_val':label_list, 'label_index':index_list})"
   ]
  },
  {
   "cell_type": "code",
   "execution_count": 13,
   "metadata": {},
   "outputs": [],
   "source": [
    "label_df = df.groupby('file')[['infermask','xcm', 'ycm']].apply(get_xy_label).reset_index()"
   ]
  },
  {
   "cell_type": "code",
   "execution_count": null,
   "metadata": {},
   "outputs": [],
   "source": [
    "merge_df = df.merge(label_df, left_index=True, right_on='label_index', how='left').reset_index()"
   ]
  },
  {
   "cell_type": "code",
   "execution_count": 24,
   "metadata": {},
   "outputs": [
    {
     "name": "stdout",
     "output_type": "stream",
     "text": [
      "184 580\n"
     ]
    }
   ],
   "source": [
    "filtdf = merge_df[merge_df['cell_length'] > 0].copy()\n",
    "filtdf = filtdf[filtdf['green_mean'] > 5].copy()\n",
    "filtdf = filtdf[filtdf['blue_mean'] > 5].copy()\n",
    "print(len(filtdf), len(merge_df))"
   ]
  },
  {
   "cell_type": "code",
   "execution_count": 25,
   "metadata": {},
   "outputs": [],
   "source": [
    "filtdf['num_nuclei'] = filtdf.groupby(['file_x', 'label_val'])['vol'].transform(len)"
   ]
  },
  {
   "cell_type": "code",
   "execution_count": 27,
   "metadata": {},
   "outputs": [],
   "source": [
    "filtdf.to_csv(f'output_data.csv')"
   ]
  },
  {
   "cell_type": "code",
   "execution_count": null,
   "metadata": {},
   "outputs": [],
   "source": [
    "from plotly import express as px\n",
    "from plotly import graph_objects as go\n",
    "\n",
    "fig = px.histogram(filtdf, x=\"red_voxels\", width=600, height=600,\n",
    "                   color='mutant',\n",
    "                    barmode='overlay', histnorm='percent'\n",
    "                   )\n",
    "fig"
   ]
  },
  {
   "cell_type": "code",
   "execution_count": null,
   "metadata": {},
   "outputs": [],
   "source": []
  }
 ],
 "metadata": {
  "kernelspec": {
   "display_name": "py310",
   "language": "python",
   "name": "py310"
  },
  "language_info": {
   "codemirror_mode": {
    "name": "ipython",
    "version": 3
   },
   "file_extension": ".py",
   "mimetype": "text/x-python",
   "name": "python",
   "nbconvert_exporter": "python",
   "pygments_lexer": "ipython3",
   "version": "3.10.10"
  }
 },
 "nbformat": 4,
 "nbformat_minor": 4
}

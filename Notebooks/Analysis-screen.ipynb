{
 "cells": [
  {
   "cell_type": "code",
   "execution_count": 1,
   "metadata": {},
   "outputs": [],
   "source": [
    "import os\n",
    "\n",
    "import numpy as np\n",
    "import tifffile\n",
    "import scipy.ndimage as ndi\n",
    "from matplotlib import pyplot as plt\n",
    "from skimage import measure\n",
    "import pandas as pd\n",
    "import seaborn as sns\n",
    "from nd2reader import ND2Reader"
   ]
  },
  {
   "cell_type": "code",
   "execution_count": null,
   "metadata": {},
   "outputs": [],
   "source": [
    "df = pd.read_pickle(\"/path/to/output_data.pkl\")\n",
    "df.columns, len(df)"
   ]
  },
  {
   "cell_type": "code",
   "execution_count": 6,
   "metadata": {},
   "outputs": [],
   "source": [
    "rowmap = {}\n",
    "for i, a in enumerate('ABCDEFGHIJKLMNOPQRSTUVW'):\n",
    "    rowmap[i + 1] = a\n",
    "\n",
    "df['row_name'] = df.row.map(rowmap)"
   ]
  },
  {
   "cell_type": "code",
   "execution_count": null,
   "metadata": {},
   "outputs": [],
   "source": [
    "df['well'] = df.row_name + df.col.astype('str').str.pad(2, fillchar='0')\n",
    "df.sample(5)"
   ]
  },
  {
   "cell_type": "code",
   "execution_count": 8,
   "metadata": {},
   "outputs": [
    {
     "data": {
      "text/plain": [
       "array(['C03'], dtype=object)"
      ]
     },
     "execution_count": 8,
     "metadata": {},
     "output_type": "execute_result"
    }
   ],
   "source": [
    "df[(df.row==3) & (df.col==3)].well.unique()"
   ]
  },
  {
   "cell_type": "code",
   "execution_count": null,
   "metadata": {},
   "outputs": [],
   "source": [
    "ex = pd.ExcelFile('/excel/plate/map/xlsx')\n",
    "sheet = ex.sheet_names[1]\n",
    "sheet0 = ex.sheet_names[2]\n",
    "sheet"
   ]
  },
  {
   "cell_type": "code",
   "execution_count": 11,
   "metadata": {},
   "outputs": [],
   "source": [
    "usecols = list(range(23))\n",
    "map0_wide = pd.read_excel(ex, sheet_name=sheet0, index_col=0,\n",
    "                          usecols=usecols, nrows=16).reset_index()\n",
    "map0 = map0_wide.melt(['index'])\n",
    "map0.columns=['row_name', 'col', 'mutant']\n"
   ]
  },
  {
   "cell_type": "code",
   "execution_count": 13,
   "metadata": {},
   "outputs": [],
   "source": [
    "map0 = map0.dropna()"
   ]
  },
  {
   "cell_type": "code",
   "execution_count": 14,
   "metadata": {},
   "outputs": [],
   "source": [
    "rowmap_reverse = {}\n",
    "for i, a in enumerate('ABCDEFGHIJKLMNOPQRSTUVW'):\n",
    "    rowmap_reverse[a] = int(i + 1)\n",
    "\n",
    "map0['row'] = map0.row_name.map(rowmap_reverse).astype('int')"
   ]
  },
  {
   "cell_type": "code",
   "execution_count": null,
   "metadata": {},
   "outputs": [],
   "source": [
    "map0['well'] = map0.row_name + map0.col.astype('str').str.pad(2, fillchar='0')\n",
    "map0.sample(6)\n",
    "    "
   ]
  },
  {
   "cell_type": "code",
   "execution_count": null,
   "metadata": {},
   "outputs": [],
   "source": [
    "xmap = map0[['well', 'mutant']]\n",
    "xmap.sample(4)"
   ]
  },
  {
   "cell_type": "code",
   "execution_count": 17,
   "metadata": {},
   "outputs": [
    {
     "data": {
      "text/plain": [
       "(85,)"
      ]
     },
     "execution_count": 17,
     "metadata": {},
     "output_type": "execute_result"
    }
   ],
   "source": [
    "xmap.mutant.unique().shape"
   ]
  },
  {
   "cell_type": "code",
   "execution_count": 18,
   "metadata": {},
   "outputs": [],
   "source": [
    "df = df.merge(xmap, on=['well'])"
   ]
  },
  {
   "cell_type": "code",
   "execution_count": 19,
   "metadata": {},
   "outputs": [],
   "source": [
    "## save to csv\n",
    "df.to_csv(\"output_data.csv\", float_format=\"%.3f\")"
   ]
  }
 ],
 "metadata": {
  "kernelspec": {
   "display_name": "py38",
   "language": "python",
   "name": "py38"
  },
  "language_info": {
   "codemirror_mode": {
    "name": "ipython",
    "version": 3
   },
   "file_extension": ".py",
   "mimetype": "text/x-python",
   "name": "python",
   "nbconvert_exporter": "python",
   "pygments_lexer": "ipython3",
   "version": "3.8.5"
  }
 },
 "nbformat": 4,
 "nbformat_minor": 2
}

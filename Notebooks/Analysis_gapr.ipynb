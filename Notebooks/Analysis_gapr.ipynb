{
 "cells": [
  {
   "cell_type": "code",
   "execution_count": 1,
   "metadata": {},
   "outputs": [],
   "source": [
    "import os\n",
    "\n",
    "import numpy as np\n",
    "import tifffile\n",
    "import scipy.ndimage as ndi\n",
    "from matplotlib import pyplot as plt\n",
    "from skimage import measure\n",
    "import pandas as pd\n",
    "import seaborn as sns\n",
    "from nd2reader import ND2Reader"
   ]
  },
  {
   "cell_type": "markdown",
   "metadata": {},
   "source": [
    "Pixel size in x and y is .129 micrometers for 60x"
   ]
  },
  {
   "cell_type": "code",
   "execution_count": 2,
   "metadata": {},
   "outputs": [],
   "source": [
    "\n",
    "df = pd.read_pickle(\"Name/of/pickle/from/run_process\")"
   ]
  },
  {
   "cell_type": "code",
   "execution_count": null,
   "metadata": {},
   "outputs": [],
   "source": [
    "def mutant_map(x):\n",
    "    f = os.path.basename(x)\n",
    "    if \"-test\" in f:\n",
    "        last= f.rindex('-test') + 5\n",
    "    else:\n",
    "        last = f.rindex('-')\n",
    "    m = f[:last]\n",
    "    return m\n",
    "\n",
    "def rep_map(x):\n",
    "    f = os.path.basename(x)\n",
    "    if \"-test\" in f:\n",
    "        last = f.rindex('-test') + 5\n",
    "    else:\n",
    "        last = f.rindex('-')\n",
    "    dot = f.rindex('.')\n",
    "    m = f[:last]\n",
    "    if (last + 1) < dot:\n",
    "        r = int(f[last + 1:dot])\n",
    "    else:\n",
    "        r = 0\n",
    "    return r\n",
    "\n",
    "def file_map(x):\n",
    "    return os.path.basename(x)\n",
    "\n",
    "def path_map(x):\n",
    "    return os.path.split(x)[0]\n",
    "\n",
    "\n",
    "df['mutant'] = df['file'].map(mutant_map)\n",
    "df['rep'] = df['file'].map(rep_map)\n",
    "df['path'] = df['file'].map(path_map)\n",
    "df['file'] = df['file'].map(file_map)\n",
    "df.sample(10)[['file', 'mutant', 'rep']]"
   ]
  },
  {
   "cell_type": "code",
   "execution_count": 8,
   "metadata": {},
   "outputs": [],
   "source": [
    "df['rdna_green_ratio'] = (df.rdna_mean/df.green_mean)\n",
    "df['rdna_vol_ratio'] = df.rdna_vol/df.vol\n",
    "df['red_vol_ratio'] = df.red_voxels/df.vol"
   ]
  },
  {
   "cell_type": "code",
   "execution_count": 9,
   "metadata": {},
   "outputs": [],
   "source": [
    "df.to_csv('output_data.csv')"
   ]
  }
 ],
 "metadata": {
  "kernelspec": {
   "display_name": "maxwell",
   "language": "python",
   "name": "maxwell"
  },
  "language_info": {
   "codemirror_mode": {
    "name": "ipython",
    "version": 3
   },
   "file_extension": ".py",
   "mimetype": "text/x-python",
   "name": "python",
   "nbconvert_exporter": "python",
   "pygments_lexer": "ipython3",
   "version": "3.9.13"
  }
 },
 "nbformat": 4,
 "nbformat_minor": 4
}
